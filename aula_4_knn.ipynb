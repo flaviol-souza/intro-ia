{
 "cells": [
  {
   "cell_type": "code",
   "execution_count": 58,
   "id": "372f615e",
   "metadata": {},
   "outputs": [],
   "source": [
    "from sklearn.neighbors import KNeighborsClassifier\n",
    "from sklearn.inspection import DecisionBoundaryDisplay\n",
    "import matplotlib.pyplot as plt\n",
    "import pandas as pd"
   ]
  },
  {
   "cell_type": "code",
   "execution_count": 59,
   "id": "2bef9983",
   "metadata": {},
   "outputs": [],
   "source": [
    "#X -> dados de entrada, as caracteristicas de cada exemplo\n",
    "X = [[0], [1], [2], [3], [4]]\n",
    "#y -> dados de saída, objetivo alvo de predição\n",
    "y = [0, 0, 1, 1, 0]"
   ]
  },
  {
   "cell_type": "code",
   "execution_count": 60,
   "id": "51259890",
   "metadata": {},
   "outputs": [
    {
     "data": {
      "text/html": [
       "<style>#sk-container-id-5 {color: black;background-color: white;}#sk-container-id-5 pre{padding: 0;}#sk-container-id-5 div.sk-toggleable {background-color: white;}#sk-container-id-5 label.sk-toggleable__label {cursor: pointer;display: block;width: 100%;margin-bottom: 0;padding: 0.3em;box-sizing: border-box;text-align: center;}#sk-container-id-5 label.sk-toggleable__label-arrow:before {content: \"▸\";float: left;margin-right: 0.25em;color: #696969;}#sk-container-id-5 label.sk-toggleable__label-arrow:hover:before {color: black;}#sk-container-id-5 div.sk-estimator:hover label.sk-toggleable__label-arrow:before {color: black;}#sk-container-id-5 div.sk-toggleable__content {max-height: 0;max-width: 0;overflow: hidden;text-align: left;background-color: #f0f8ff;}#sk-container-id-5 div.sk-toggleable__content pre {margin: 0.2em;color: black;border-radius: 0.25em;background-color: #f0f8ff;}#sk-container-id-5 input.sk-toggleable__control:checked~div.sk-toggleable__content {max-height: 200px;max-width: 100%;overflow: auto;}#sk-container-id-5 input.sk-toggleable__control:checked~label.sk-toggleable__label-arrow:before {content: \"▾\";}#sk-container-id-5 div.sk-estimator input.sk-toggleable__control:checked~label.sk-toggleable__label {background-color: #d4ebff;}#sk-container-id-5 div.sk-label input.sk-toggleable__control:checked~label.sk-toggleable__label {background-color: #d4ebff;}#sk-container-id-5 input.sk-hidden--visually {border: 0;clip: rect(1px 1px 1px 1px);clip: rect(1px, 1px, 1px, 1px);height: 1px;margin: -1px;overflow: hidden;padding: 0;position: absolute;width: 1px;}#sk-container-id-5 div.sk-estimator {font-family: monospace;background-color: #f0f8ff;border: 1px dotted black;border-radius: 0.25em;box-sizing: border-box;margin-bottom: 0.5em;}#sk-container-id-5 div.sk-estimator:hover {background-color: #d4ebff;}#sk-container-id-5 div.sk-parallel-item::after {content: \"\";width: 100%;border-bottom: 1px solid gray;flex-grow: 1;}#sk-container-id-5 div.sk-label:hover label.sk-toggleable__label {background-color: #d4ebff;}#sk-container-id-5 div.sk-serial::before {content: \"\";position: absolute;border-left: 1px solid gray;box-sizing: border-box;top: 0;bottom: 0;left: 50%;z-index: 0;}#sk-container-id-5 div.sk-serial {display: flex;flex-direction: column;align-items: center;background-color: white;padding-right: 0.2em;padding-left: 0.2em;position: relative;}#sk-container-id-5 div.sk-item {position: relative;z-index: 1;}#sk-container-id-5 div.sk-parallel {display: flex;align-items: stretch;justify-content: center;background-color: white;position: relative;}#sk-container-id-5 div.sk-item::before, #sk-container-id-5 div.sk-parallel-item::before {content: \"\";position: absolute;border-left: 1px solid gray;box-sizing: border-box;top: 0;bottom: 0;left: 50%;z-index: -1;}#sk-container-id-5 div.sk-parallel-item {display: flex;flex-direction: column;z-index: 1;position: relative;background-color: white;}#sk-container-id-5 div.sk-parallel-item:first-child::after {align-self: flex-end;width: 50%;}#sk-container-id-5 div.sk-parallel-item:last-child::after {align-self: flex-start;width: 50%;}#sk-container-id-5 div.sk-parallel-item:only-child::after {width: 0;}#sk-container-id-5 div.sk-dashed-wrapped {border: 1px dashed gray;margin: 0 0.4em 0.5em 0.4em;box-sizing: border-box;padding-bottom: 0.4em;background-color: white;}#sk-container-id-5 div.sk-label label {font-family: monospace;font-weight: bold;display: inline-block;line-height: 1.2em;}#sk-container-id-5 div.sk-label-container {text-align: center;}#sk-container-id-5 div.sk-container {/* jupyter's `normalize.less` sets `[hidden] { display: none; }` but bootstrap.min.css set `[hidden] { display: none !important; }` so we also need the `!important` here to be able to override the default hidden behavior on the sphinx rendered scikit-learn.org. See: https://github.com/scikit-learn/scikit-learn/issues/21755 */display: inline-block !important;position: relative;}#sk-container-id-5 div.sk-text-repr-fallback {display: none;}</style><div id=\"sk-container-id-5\" class=\"sk-top-container\"><div class=\"sk-text-repr-fallback\"><pre>KNeighborsClassifier()</pre><b>In a Jupyter environment, please rerun this cell to show the HTML representation or trust the notebook. <br />On GitHub, the HTML representation is unable to render, please try loading this page with nbviewer.org.</b></div><div class=\"sk-container\" hidden><div class=\"sk-item\"><div class=\"sk-estimator sk-toggleable\"><input class=\"sk-toggleable__control sk-hidden--visually\" id=\"sk-estimator-id-5\" type=\"checkbox\" checked><label for=\"sk-estimator-id-5\" class=\"sk-toggleable__label sk-toggleable__label-arrow\">KNeighborsClassifier</label><div class=\"sk-toggleable__content\"><pre>KNeighborsClassifier()</pre></div></div></div></div></div>"
      ],
      "text/plain": [
       "KNeighborsClassifier()"
      ]
     },
     "execution_count": 60,
     "metadata": {},
     "output_type": "execute_result"
    }
   ],
   "source": [
    "neigh = KNeighborsClassifier() # Por padrão k é 5 vizinhos mais próximos\n",
    "neigh.fit(X, y) #Treinamento do MA por KNN"
   ]
  },
  {
   "cell_type": "code",
   "execution_count": 61,
   "id": "515bfd23",
   "metadata": {},
   "outputs": [
    {
     "data": {
      "text/plain": [
       "array([[0, 1, 2, 3, 4],\n",
       "       [1, 0, 2, 3, 4],\n",
       "       [2, 1, 3, 0, 4],\n",
       "       [3, 4, 2, 1, 0],\n",
       "       [4, 3, 2, 1, 0]], dtype=int64)"
      ]
     },
     "execution_count": 61,
     "metadata": {},
     "output_type": "execute_result"
    }
   ],
   "source": [
    "neigh.kneighbors(X, return_distance=False)"
   ]
  },
  {
   "cell_type": "code",
   "execution_count": 62,
   "id": "85fa0dee",
   "metadata": {},
   "outputs": [
    {
     "data": {
      "text/plain": [
       "array([0])"
      ]
     },
     "execution_count": 62,
     "metadata": {},
     "output_type": "execute_result"
    }
   ],
   "source": [
    "neigh.predict([[1.1]])"
   ]
  },
  {
   "cell_type": "code",
   "execution_count": 63,
   "id": "618ed9cd",
   "metadata": {},
   "outputs": [
    {
     "data": {
      "text/plain": [
       "array([[0.6, 0.4]])"
      ]
     },
     "execution_count": 63,
     "metadata": {},
     "output_type": "execute_result"
    }
   ],
   "source": [
    "neigh.predict_proba([[1.1]])"
   ]
  },
  {
   "cell_type": "code",
   "execution_count": 64,
   "id": "7260bd2a",
   "metadata": {},
   "outputs": [
    {
     "data": {
      "text/html": [
       "<style>#sk-container-id-6 {color: black;background-color: white;}#sk-container-id-6 pre{padding: 0;}#sk-container-id-6 div.sk-toggleable {background-color: white;}#sk-container-id-6 label.sk-toggleable__label {cursor: pointer;display: block;width: 100%;margin-bottom: 0;padding: 0.3em;box-sizing: border-box;text-align: center;}#sk-container-id-6 label.sk-toggleable__label-arrow:before {content: \"▸\";float: left;margin-right: 0.25em;color: #696969;}#sk-container-id-6 label.sk-toggleable__label-arrow:hover:before {color: black;}#sk-container-id-6 div.sk-estimator:hover label.sk-toggleable__label-arrow:before {color: black;}#sk-container-id-6 div.sk-toggleable__content {max-height: 0;max-width: 0;overflow: hidden;text-align: left;background-color: #f0f8ff;}#sk-container-id-6 div.sk-toggleable__content pre {margin: 0.2em;color: black;border-radius: 0.25em;background-color: #f0f8ff;}#sk-container-id-6 input.sk-toggleable__control:checked~div.sk-toggleable__content {max-height: 200px;max-width: 100%;overflow: auto;}#sk-container-id-6 input.sk-toggleable__control:checked~label.sk-toggleable__label-arrow:before {content: \"▾\";}#sk-container-id-6 div.sk-estimator input.sk-toggleable__control:checked~label.sk-toggleable__label {background-color: #d4ebff;}#sk-container-id-6 div.sk-label input.sk-toggleable__control:checked~label.sk-toggleable__label {background-color: #d4ebff;}#sk-container-id-6 input.sk-hidden--visually {border: 0;clip: rect(1px 1px 1px 1px);clip: rect(1px, 1px, 1px, 1px);height: 1px;margin: -1px;overflow: hidden;padding: 0;position: absolute;width: 1px;}#sk-container-id-6 div.sk-estimator {font-family: monospace;background-color: #f0f8ff;border: 1px dotted black;border-radius: 0.25em;box-sizing: border-box;margin-bottom: 0.5em;}#sk-container-id-6 div.sk-estimator:hover {background-color: #d4ebff;}#sk-container-id-6 div.sk-parallel-item::after {content: \"\";width: 100%;border-bottom: 1px solid gray;flex-grow: 1;}#sk-container-id-6 div.sk-label:hover label.sk-toggleable__label {background-color: #d4ebff;}#sk-container-id-6 div.sk-serial::before {content: \"\";position: absolute;border-left: 1px solid gray;box-sizing: border-box;top: 0;bottom: 0;left: 50%;z-index: 0;}#sk-container-id-6 div.sk-serial {display: flex;flex-direction: column;align-items: center;background-color: white;padding-right: 0.2em;padding-left: 0.2em;position: relative;}#sk-container-id-6 div.sk-item {position: relative;z-index: 1;}#sk-container-id-6 div.sk-parallel {display: flex;align-items: stretch;justify-content: center;background-color: white;position: relative;}#sk-container-id-6 div.sk-item::before, #sk-container-id-6 div.sk-parallel-item::before {content: \"\";position: absolute;border-left: 1px solid gray;box-sizing: border-box;top: 0;bottom: 0;left: 50%;z-index: -1;}#sk-container-id-6 div.sk-parallel-item {display: flex;flex-direction: column;z-index: 1;position: relative;background-color: white;}#sk-container-id-6 div.sk-parallel-item:first-child::after {align-self: flex-end;width: 50%;}#sk-container-id-6 div.sk-parallel-item:last-child::after {align-self: flex-start;width: 50%;}#sk-container-id-6 div.sk-parallel-item:only-child::after {width: 0;}#sk-container-id-6 div.sk-dashed-wrapped {border: 1px dashed gray;margin: 0 0.4em 0.5em 0.4em;box-sizing: border-box;padding-bottom: 0.4em;background-color: white;}#sk-container-id-6 div.sk-label label {font-family: monospace;font-weight: bold;display: inline-block;line-height: 1.2em;}#sk-container-id-6 div.sk-label-container {text-align: center;}#sk-container-id-6 div.sk-container {/* jupyter's `normalize.less` sets `[hidden] { display: none; }` but bootstrap.min.css set `[hidden] { display: none !important; }` so we also need the `!important` here to be able to override the default hidden behavior on the sphinx rendered scikit-learn.org. See: https://github.com/scikit-learn/scikit-learn/issues/21755 */display: inline-block !important;position: relative;}#sk-container-id-6 div.sk-text-repr-fallback {display: none;}</style><div id=\"sk-container-id-6\" class=\"sk-top-container\"><div class=\"sk-text-repr-fallback\"><pre>KNeighborsClassifier(n_neighbors=3)</pre><b>In a Jupyter environment, please rerun this cell to show the HTML representation or trust the notebook. <br />On GitHub, the HTML representation is unable to render, please try loading this page with nbviewer.org.</b></div><div class=\"sk-container\" hidden><div class=\"sk-item\"><div class=\"sk-estimator sk-toggleable\"><input class=\"sk-toggleable__control sk-hidden--visually\" id=\"sk-estimator-id-6\" type=\"checkbox\" checked><label for=\"sk-estimator-id-6\" class=\"sk-toggleable__label sk-toggleable__label-arrow\">KNeighborsClassifier</label><div class=\"sk-toggleable__content\"><pre>KNeighborsClassifier(n_neighbors=3)</pre></div></div></div></div></div>"
      ],
      "text/plain": [
       "KNeighborsClassifier(n_neighbors=3)"
      ]
     },
     "execution_count": 64,
     "metadata": {},
     "output_type": "execute_result"
    }
   ],
   "source": [
    "neigh = KNeighborsClassifier(n_neighbors=3) # k é 3 vizinhos mais próximos\n",
    "neigh.fit(X, y)"
   ]
  },
  {
   "cell_type": "code",
   "execution_count": 65,
   "id": "3517fded",
   "metadata": {},
   "outputs": [
    {
     "data": {
      "text/plain": [
       "array([[0, 1, 2],\n",
       "       [1, 0, 2],\n",
       "       [2, 1, 3],\n",
       "       [3, 2, 4],\n",
       "       [4, 3, 2]], dtype=int64)"
      ]
     },
     "execution_count": 65,
     "metadata": {},
     "output_type": "execute_result"
    }
   ],
   "source": [
    "neigh.kneighbors(X, return_distance=False)"
   ]
  },
  {
   "cell_type": "code",
   "execution_count": 66,
   "id": "889f824e",
   "metadata": {},
   "outputs": [
    {
     "data": {
      "text/plain": [
       "array([0])"
      ]
     },
     "execution_count": 66,
     "metadata": {},
     "output_type": "execute_result"
    }
   ],
   "source": [
    "neigh.predict([[1.1]])"
   ]
  },
  {
   "cell_type": "code",
   "execution_count": 67,
   "id": "92f4537d",
   "metadata": {},
   "outputs": [
    {
     "data": {
      "text/plain": [
       "array([[0.66666667, 0.33333333]])"
      ]
     },
     "execution_count": 67,
     "metadata": {},
     "output_type": "execute_result"
    }
   ],
   "source": [
    "neigh.predict_proba([[1.1]])"
   ]
  },
  {
   "cell_type": "code",
   "execution_count": 68,
   "id": "d809edc3",
   "metadata": {},
   "outputs": [
    {
     "data": {
      "text/html": [
       "<div>\n",
       "<style scoped>\n",
       "    .dataframe tbody tr th:only-of-type {\n",
       "        vertical-align: middle;\n",
       "    }\n",
       "\n",
       "    .dataframe tbody tr th {\n",
       "        vertical-align: top;\n",
       "    }\n",
       "\n",
       "    .dataframe thead th {\n",
       "        text-align: right;\n",
       "    }\n",
       "</style>\n",
       "<table border=\"1\" class=\"dataframe\">\n",
       "  <thead>\n",
       "    <tr style=\"text-align: right;\">\n",
       "      <th></th>\n",
       "      <th>sep-lenght</th>\n",
       "      <th>sep-width</th>\n",
       "      <th>pet-lenght</th>\n",
       "      <th>pet-width</th>\n",
       "      <th>class</th>\n",
       "    </tr>\n",
       "  </thead>\n",
       "  <tbody>\n",
       "    <tr>\n",
       "      <th>0</th>\n",
       "      <td>5.1</td>\n",
       "      <td>3.5</td>\n",
       "      <td>1.4</td>\n",
       "      <td>0.2</td>\n",
       "      <td>Iris-setosa</td>\n",
       "    </tr>\n",
       "    <tr>\n",
       "      <th>1</th>\n",
       "      <td>4.9</td>\n",
       "      <td>3.0</td>\n",
       "      <td>1.4</td>\n",
       "      <td>0.2</td>\n",
       "      <td>Iris-setosa</td>\n",
       "    </tr>\n",
       "    <tr>\n",
       "      <th>2</th>\n",
       "      <td>4.7</td>\n",
       "      <td>3.2</td>\n",
       "      <td>1.3</td>\n",
       "      <td>0.2</td>\n",
       "      <td>Iris-setosa</td>\n",
       "    </tr>\n",
       "    <tr>\n",
       "      <th>3</th>\n",
       "      <td>4.6</td>\n",
       "      <td>3.1</td>\n",
       "      <td>1.5</td>\n",
       "      <td>0.2</td>\n",
       "      <td>Iris-setosa</td>\n",
       "    </tr>\n",
       "    <tr>\n",
       "      <th>4</th>\n",
       "      <td>5.0</td>\n",
       "      <td>3.6</td>\n",
       "      <td>1.4</td>\n",
       "      <td>0.2</td>\n",
       "      <td>Iris-setosa</td>\n",
       "    </tr>\n",
       "  </tbody>\n",
       "</table>\n",
       "</div>"
      ],
      "text/plain": [
       "   sep-lenght  sep-width  pet-lenght  pet-width        class\n",
       "0         5.1        3.5         1.4        0.2  Iris-setosa\n",
       "1         4.9        3.0         1.4        0.2  Iris-setosa\n",
       "2         4.7        3.2         1.3        0.2  Iris-setosa\n",
       "3         4.6        3.1         1.5        0.2  Iris-setosa\n",
       "4         5.0        3.6         1.4        0.2  Iris-setosa"
      ]
     },
     "execution_count": 68,
     "metadata": {},
     "output_type": "execute_result"
    }
   ],
   "source": [
    "iris = pd.read_csv('dataset/iris.data', names=['sep-lenght', 'sep-width', 'pet-lenght', 'pet-width', 'class'])\n",
    "iris.head()"
   ]
  },
  {
   "cell_type": "code",
   "execution_count": 69,
   "id": "e77f571d",
   "metadata": {},
   "outputs": [],
   "source": [
    "X = iris.iloc[:,:4] #all parameters\n",
    "y = iris[\"class\"] #class labels"
   ]
  },
  {
   "cell_type": "code",
   "execution_count": 70,
   "id": "05101602",
   "metadata": {},
   "outputs": [
    {
     "data": {
      "text/plain": [
       "array([[  0,  17,   4],\n",
       "       [  1,  45,  12],\n",
       "       [  2,  47,   3],\n",
       "       [  3,  47,  29],\n",
       "       [  4,   0,  17],\n",
       "       [  5,  18,  10],\n",
       "       [  6,  47,   2],\n",
       "       [  7,  39,  49],\n",
       "       [  8,  38,   3],\n",
       "       [ 37,  34,   9],\n",
       "       [ 10,  48,  27],\n",
       "       [ 11,  29,   7],\n",
       "       [ 12,   1,  34],\n",
       "       [ 13,  38,  42],\n",
       "       [ 14,  33,  16],\n",
       "       [ 15,  33,  14],\n",
       "       [ 16,  10,  48],\n",
       "       [ 17,   0,  40],\n",
       "       [ 18,   5,  10],\n",
       "       [ 19,  21,  46],\n",
       "       [ 20,  31,  27],\n",
       "       [ 21,  19,  46],\n",
       "       [ 22,   6,   2],\n",
       "       [ 23,  26,  43],\n",
       "       [ 24,  11,  29],\n",
       "       [ 25,   9,  34],\n",
       "       [ 26,  23,  43],\n",
       "       [ 27,  28,   0],\n",
       "       [ 28,  27,   0],\n",
       "       [ 29,  30,   3],\n",
       "       [ 30,  29,  34],\n",
       "       [ 31,  20,  27],\n",
       "       [ 32,  46,  33],\n",
       "       [ 33,  32,  15],\n",
       "       [ 37,  34,   9],\n",
       "       [ 35,  49,   1],\n",
       "       [ 36,  10,  31],\n",
       "       [ 37,  34,   9],\n",
       "       [ 38,   8,  42],\n",
       "       [ 39,   7,   0],\n",
       "       [ 40,  17,   0],\n",
       "       [ 41,   8,  38],\n",
       "       [ 42,  38,  47],\n",
       "       [ 43,  26,  23],\n",
       "       [ 44,  46,   5],\n",
       "       [ 45,   1,  12],\n",
       "       [ 46,  19,  21],\n",
       "       [ 47,   3,   2],\n",
       "       [ 48,  10,  27],\n",
       "       [ 49,   7,  39],\n",
       "       [ 50,  52,  86],\n",
       "       [ 51,  56,  75],\n",
       "       [ 52,  50,  86],\n",
       "       [ 53,  89,  80],\n",
       "       [ 54,  58,  75],\n",
       "       [ 55,  66,  90],\n",
       "       [ 56,  51,  85],\n",
       "       [ 57,  93,  98],\n",
       "       [ 58,  75,  54],\n",
       "       [ 59,  89,  94],\n",
       "       [ 60,  93,  57],\n",
       "       [ 61,  96,  78],\n",
       "       [ 62,  92,  69],\n",
       "       [ 63,  91,  73],\n",
       "       [ 64,  82,  79],\n",
       "       [ 65,  75,  58],\n",
       "       [ 66,  84,  55],\n",
       "       [ 67,  92,  82],\n",
       "       [ 68,  87,  72],\n",
       "       [ 69,  80,  89],\n",
       "       [ 70, 138, 127],\n",
       "       [ 71,  97,  82],\n",
       "       [ 72, 133, 123],\n",
       "       [ 73,  63,  91],\n",
       "       [ 74,  97,  75],\n",
       "       [ 75,  65,  58],\n",
       "       [ 76,  58,  86],\n",
       "       [ 77,  52,  86],\n",
       "       [ 78,  91,  63],\n",
       "       [ 79,  81,  80],\n",
       "       [ 80,  81,  69],\n",
       "       [ 81,  80,  69],\n",
       "       [ 82,  92,  99],\n",
       "       [ 83, 133, 101],\n",
       "       [ 84,  66,  55],\n",
       "       [ 85,  56,  70],\n",
       "       [ 86,  52,  65],\n",
       "       [ 87,  68,  72],\n",
       "       [ 88,  96,  95],\n",
       "       [ 89,  53,  69],\n",
       "       [ 90,  94,  55],\n",
       "       [ 91,  63,  78],\n",
       "       [ 92,  82,  67],\n",
       "       [ 93,  57,  60],\n",
       "       [ 94,  99,  96],\n",
       "       [ 95,  96,  88],\n",
       "       [ 96,  95,  99],\n",
       "       [ 97,  74,  71],\n",
       "       [ 98,  57,  93],\n",
       "       [ 99,  96,  94],\n",
       "       [100, 136, 144],\n",
       "       [142, 101, 113],\n",
       "       [102, 125, 120],\n",
       "       [103, 116, 137],\n",
       "       [104, 132, 128],\n",
       "       [105, 122, 107],\n",
       "       [106,  84,  59],\n",
       "       [107, 130, 125],\n",
       "       [108, 128, 103],\n",
       "       [109, 143, 120],\n",
       "       [110, 147, 115],\n",
       "       [111, 147, 128],\n",
       "       [112, 139, 140],\n",
       "       [113, 142, 101],\n",
       "       [114, 121, 101],\n",
       "       [115, 148, 110],\n",
       "       [116, 137, 103],\n",
       "       [117, 131, 105],\n",
       "       [118, 122, 105],\n",
       "       [119,  72,  83],\n",
       "       [120, 143, 140],\n",
       "       [121, 142, 101],\n",
       "       [122, 105, 118],\n",
       "       [123, 126, 146],\n",
       "       [124, 120, 143],\n",
       "       [125, 129, 102],\n",
       "       [126, 123, 127],\n",
       "       [127, 138, 126],\n",
       "       [128, 132, 104],\n",
       "       [129, 125, 130],\n",
       "       [130, 107, 102],\n",
       "       [131, 117, 105],\n",
       "       [132, 128, 104],\n",
       "       [133,  83,  72],\n",
       "       [134, 103,  83],\n",
       "       [135, 130, 105],\n",
       "       [136, 148, 115],\n",
       "       [137, 116, 103],\n",
       "       [138, 127,  70],\n",
       "       [139, 112, 145],\n",
       "       [140, 144, 120],\n",
       "       [141, 145, 139],\n",
       "       [142, 101, 113],\n",
       "       [143, 120, 124],\n",
       "       [144, 140, 120],\n",
       "       [145, 141, 147],\n",
       "       [146, 123, 111],\n",
       "       [147, 110, 111],\n",
       "       [148, 136, 115],\n",
       "       [149, 127, 138]], dtype=int64)"
      ]
     },
     "execution_count": 70,
     "metadata": {},
     "output_type": "execute_result"
    }
   ],
   "source": [
    "clf = KNeighborsClassifier(n_neighbors=3)\n",
    "clf.fit(X, y) \n",
    "clf.kneighbors(X, return_distance=False)"
   ]
  },
  {
   "cell_type": "code",
   "execution_count": 71,
   "id": "afdd9282",
   "metadata": {},
   "outputs": [
    {
     "data": {
      "text/plain": [
       "array([[  0,  17,  40],\n",
       "       [  1,  25,   9],\n",
       "       [ 29,   2,  47],\n",
       "       [  3,  47,   2],\n",
       "       [  4,  43,  40],\n",
       "       [  5,  16,  10],\n",
       "       [  6,  47,  24],\n",
       "       [ 26,   7,  39],\n",
       "       [  8,  38,  13],\n",
       "       [ 37,   9,  34],\n",
       "       [ 10,  48,   5],\n",
       "       [ 11,  24,  26],\n",
       "       [ 12,  45,  30],\n",
       "       [ 13,  38,   8],\n",
       "       [ 14,  18,  33],\n",
       "       [ 15,  33,  14],\n",
       "       [  5,  16,  10],\n",
       "       [  0,  17,  40],\n",
       "       [ 18,  14,  10],\n",
       "       [ 19,  46,  44],\n",
       "       [ 31,  20,  36],\n",
       "       [ 21,  44,  46],\n",
       "       [ 22,   6,  24],\n",
       "       [ 23,  49,  39],\n",
       "       [ 11,  24,  26],\n",
       "       [ 25,   1,   9],\n",
       "       [ 26,   7,  39],\n",
       "       [ 27,  28,   0],\n",
       "       [ 28,  27,  39],\n",
       "       [ 29,   2,  47],\n",
       "       [ 30,  12,  45],\n",
       "       [ 31,  20,  36],\n",
       "       [ 32,  16,   5],\n",
       "       [ 33,  15,  32],\n",
       "       [ 37,   9,  34],\n",
       "       [ 35,  49,  23],\n",
       "       [ 36,  20,  31],\n",
       "       [ 37,   9,  34],\n",
       "       [ 38,   8,  13],\n",
       "       [ 39,   7,  26],\n",
       "       [ 40,  43,   0],\n",
       "       [ 41,  57, 106],\n",
       "       [ 42,  47,  38],\n",
       "       [ 40,  43,   0],\n",
       "       [ 19,  46,  44],\n",
       "       [ 12,  45,  30],\n",
       "       [ 19,  46,  44],\n",
       "       [ 47,   3,   2],\n",
       "       [ 48,  10,  21],\n",
       "       [ 49,  23,  35],\n",
       "       [ 50, 120,  52],\n",
       "       [ 51, 115, 110],\n",
       "       [141,  52, 139],\n",
       "       [ 53,  80,  81],\n",
       "       [ 54, 128, 132],\n",
       "       [ 99,  55, 114],\n",
       "       [100,  56, 136],\n",
       "       [ 57, 106,  93],\n",
       "       [ 58,  75, 104],\n",
       "       [ 59,  98,  90],\n",
       "       [ 60,  93,  57],\n",
       "       [149,  61, 138],\n",
       "       [ 62, 119,  68],\n",
       "       [ 63,  78,  73],\n",
       "       [ 64, 121,  88],\n",
       "       [140,  86,  65],\n",
       "       [ 88,  66,  64],\n",
       "       [101,  67,  82],\n",
       "       [ 68,  87,  62],\n",
       "       [ 69,  89, 113],\n",
       "       [ 70, 149,  61],\n",
       "       [ 71,  73,  63],\n",
       "       [146,  72,  87],\n",
       "       [ 71,  73,  63],\n",
       "       [ 74, 132, 128],\n",
       "       [ 75, 116, 104],\n",
       "       [ 76, 112, 145],\n",
       "       [145,  77, 112],\n",
       "       [ 78,  63, 138],\n",
       "       [ 79,  92, 113],\n",
       "       [ 80,  81,  89],\n",
       "       [ 80,  81,  89],\n",
       "       [101,  67,  82],\n",
       "       [ 83,  71,  73],\n",
       "       [ 84,  88,  66],\n",
       "       [ 85, 148,  70],\n",
       "       [140,  86,  65],\n",
       "       [ 87,  68,  72],\n",
       "       [ 88,  66,  64],\n",
       "       [ 89,  69,  90],\n",
       "       [ 90,  89,  69],\n",
       "       [ 91, 127, 138],\n",
       "       [ 92,  79,  67],\n",
       "       [ 93,  57,  98],\n",
       "       [ 94, 121,  90],\n",
       "       [ 95,  96,  88],\n",
       "       [ 96,  95,  99],\n",
       "       [ 97, 103, 126],\n",
       "       [ 98, 106,  57],\n",
       "       [ 99,  55, 114],\n",
       "       [100,  56, 136],\n",
       "       [101,  67,  82],\n",
       "       [102, 129, 139],\n",
       "       [103,  97, 133],\n",
       "       [147, 116, 104],\n",
       "       [105, 135, 122],\n",
       "       [106,  57,  98],\n",
       "       [107, 129, 130],\n",
       "       [108,  76,  54],\n",
       "       [109, 125,  50],\n",
       "       [110, 115,  51],\n",
       "       [111, 132, 128],\n",
       "       [112, 145,  77],\n",
       "       [113,  79,  69],\n",
       "       [114,  99,  67],\n",
       "       [ 51, 115, 110],\n",
       "       [147, 116, 104],\n",
       "       [117, 131, 109],\n",
       "       [118, 122, 130],\n",
       "       [ 62, 119,  68],\n",
       "       [120,  50,  52],\n",
       "       [121,  94,  64],\n",
       "       [122, 118, 135],\n",
       "       [123, 133, 111],\n",
       "       [124, 144, 143],\n",
       "       [125,  50, 129],\n",
       "       [126, 133,  97],\n",
       "       [ 91, 127, 138],\n",
       "       [132, 128, 111],\n",
       "       [129, 102, 107],\n",
       "       [130, 107, 105],\n",
       "       [131, 117, 109],\n",
       "       [132, 128, 111],\n",
       "       [133, 123, 126],\n",
       "       [134,  83,  73],\n",
       "       [135, 105, 122],\n",
       "       [136, 148,  56],\n",
       "       [137,  51, 115],\n",
       "       [138, 149,  61],\n",
       "       [141,  52, 139],\n",
       "       [140,  86,  65],\n",
       "       [141,  52, 139],\n",
       "       [101,  67,  82],\n",
       "       [143, 120, 144],\n",
       "       [124, 144, 143],\n",
       "       [145,  77, 112],\n",
       "       [146,  72,  87],\n",
       "       [147, 116, 104],\n",
       "       [148, 136,  56],\n",
       "       [149,  61, 138]], dtype=int64)"
      ]
     },
     "execution_count": 71,
     "metadata": {},
     "output_type": "execute_result"
    }
   ],
   "source": [
    "_y = iris['class'].replace(['Iris-setosa', 'Iris-versicolor', 'Iris-virginica'],\n",
    "                        [0, 1, 2], inplace=True)\n",
    "_x = iris[['sep-lenght', 'sep-width']]\n",
    "clf.fit(_x, y)\n",
    "clf.kneighbors(_x, return_distance=False)"
   ]
  },
  {
   "cell_type": "code",
   "execution_count": 72,
   "id": "a5bb6ad6",
   "metadata": {},
   "outputs": [
    {
     "data": {
      "image/png": "[encoded data removed]",
      "text/plain": [
       "<Figure size 432x288 with 1 Axes>"
      ]
     },
     "metadata": {
      "needs_background": "light"
     },
     "output_type": "display_data"
    }
   ],
   "source": [
    "disp = DecisionBoundaryDisplay.from_estimator(\n",
    "     clf, _x, response_method=\"predict\",\n",
    "     xlabel='sep-lenght', ylabel='sep-width',\n",
    "     alpha=0.5\n",
    ")\n",
    "disp.ax_.scatter(_x['sep-lenght'], _x['sep-width'], c=y, edgecolors=\"k\")\n",
    "plt.show()"
   ]
  }
 ],
 "metadata": {
  "kernelspec": {
   "display_name": "Python 3 (ipykernel)",
   "language": "python",
   "name": "python3"
  },
  "language_info": {
   "codemirror_mode": {
    "name": "ipython",
    "version": 3
   },
   "file_extension": ".py",
   "mimetype": "text/x-python",
   "name": "python",
   "nbconvert_exporter": "python",
   "pygments_lexer": "ipython3",
   "version": "3.9.6"
  }
 },
 "nbformat": 4,
 "nbformat_minor": 5
}
