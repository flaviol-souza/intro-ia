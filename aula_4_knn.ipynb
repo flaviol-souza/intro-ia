{
 "cells": [
  {
   "cell_type": "code",
   "execution_count": 74,
   "id": "372f615e",
   "metadata": {},
   "outputs": [
    {
     "ename": "ImportError",
     "evalue": "cannot import name 'DecisionBoundaryDisplay' from 'sklearn.inspection' (/usr/local/lib/python3.9/site-packages/sklearn/inspection/__init__.py)",
     "output_type": "error",
     "traceback": [
      "\u001b[0;31m---------------------------------------------------------------------------\u001b[0m",
      "\u001b[0;31mImportError\u001b[0m                               Traceback (most recent call last)",
      "\u001b[0;32m/var/folders/5d/gwtjffpj245b4r23_kk3_xch0000gn/T/ipykernel_12029/3723548030.py\u001b[0m in \u001b[0;36m<module>\u001b[0;34m\u001b[0m\n\u001b[1;32m      1\u001b[0m \u001b[0;32mfrom\u001b[0m \u001b[0msklearn\u001b[0m\u001b[0;34m.\u001b[0m\u001b[0mneighbors\u001b[0m \u001b[0;32mimport\u001b[0m \u001b[0mKNeighborsClassifier\u001b[0m\u001b[0;34m\u001b[0m\u001b[0;34m\u001b[0m\u001b[0m\n\u001b[0;32m----> 2\u001b[0;31m \u001b[0;32mfrom\u001b[0m \u001b[0msklearn\u001b[0m\u001b[0;34m.\u001b[0m\u001b[0minspection\u001b[0m \u001b[0;32mimport\u001b[0m \u001b[0mDecisionBoundaryDisplay\u001b[0m\u001b[0;34m\u001b[0m\u001b[0;34m\u001b[0m\u001b[0m\n\u001b[0m\u001b[1;32m      3\u001b[0m \u001b[0;32mimport\u001b[0m \u001b[0mmatplotlib\u001b[0m\u001b[0;34m.\u001b[0m\u001b[0mpyplot\u001b[0m \u001b[0;32mas\u001b[0m \u001b[0mplt\u001b[0m\u001b[0;34m\u001b[0m\u001b[0;34m\u001b[0m\u001b[0m\n\u001b[1;32m      4\u001b[0m \u001b[0;32mimport\u001b[0m \u001b[0mpandas\u001b[0m \u001b[0;32mas\u001b[0m \u001b[0mpd\u001b[0m\u001b[0;34m\u001b[0m\u001b[0;34m\u001b[0m\u001b[0m\n",
      "\u001b[0;31mImportError\u001b[0m: cannot import name 'DecisionBoundaryDisplay' from 'sklearn.inspection' (/usr/local/lib/python3.9/site-packages/sklearn/inspection/__init__.py)"
     ]
    }
   ],
   "source": [
    "from sklearn.neighbors import KNeighborsClassifier\n",
    "from sklearn.inspection import DecisionBoundaryDisplay\n",
    "import matplotlib.pyplot as plt\n",
    "import pandas as pd"
   ]
  },
  {
   "cell_type": "code",
   "execution_count": null,
   "id": "2bef9983",
   "metadata": {},
   "outputs": [],
   "source": [
    "X = [[0], [1], [2], [3], [4]]\n",
    "y = [0, 0, 1, 1, 0]"
   ]
  },
  {
   "cell_type": "code",
   "execution_count": null,
   "id": "51259890",
   "metadata": {},
   "outputs": [],
   "source": [
    "neigh = KNeighborsClassifier()\n",
    "neigh.fit(X, y)"
   ]
  },
  {
   "cell_type": "code",
   "execution_count": null,
   "id": "515bfd23",
   "metadata": {},
   "outputs": [],
   "source": [
    "neigh.kneighbors(X, return_distance=False)"
   ]
  },
  {
   "cell_type": "code",
   "execution_count": null,
   "id": "85fa0dee",
   "metadata": {},
   "outputs": [],
   "source": [
    "neigh.predict([[1.1]])"
   ]
  },
  {
   "cell_type": "code",
   "execution_count": null,
   "id": "618ed9cd",
   "metadata": {},
   "outputs": [],
   "source": [
    "neigh.predict_proba([[1.1]])"
   ]
  },
  {
   "cell_type": "code",
   "execution_count": null,
   "id": "7260bd2a",
   "metadata": {},
   "outputs": [],
   "source": [
    "neigh = KNeighborsClassifier(n_neighbors=3)\n",
    "neigh.fit(X, y)"
   ]
  },
  {
   "cell_type": "code",
   "execution_count": null,
   "id": "3517fded",
   "metadata": {},
   "outputs": [],
   "source": [
    "neigh.kneighbors(X, return_distance=False)"
   ]
  },
  {
   "cell_type": "code",
   "execution_count": null,
   "id": "889f824e",
   "metadata": {},
   "outputs": [],
   "source": [
    "neigh.predict([[1.1]])"
   ]
  },
  {
   "cell_type": "code",
   "execution_count": null,
   "id": "92f4537d",
   "metadata": {},
   "outputs": [],
   "source": [
    "neigh.predict_proba([[1.1]])"
   ]
  },
  {
   "cell_type": "code",
   "execution_count": null,
   "id": "d809edc3",
   "metadata": {},
   "outputs": [],
   "source": [
    "iris = pd.read_csv('dataset/iris.data', names=['sep-lenght', 'sep-width', 'pet-lenght', 'pet-width', 'class'])\n",
    "iris.head()"
   ]
  },
  {
   "cell_type": "code",
   "execution_count": 75,
   "id": "e77f571d",
   "metadata": {},
   "outputs": [],
   "source": [
    "X = iris.iloc[:,:4] #all parameters\n",
    "y = iris[\"class\"] #class labels"
   ]
  },
  {
   "cell_type": "code",
   "execution_count": 76,
   "id": "05101602",
   "metadata": {},
   "outputs": [
    {
     "data": {
      "text/plain": [
       "array([[  0,  17,   4],\n",
       "       [  1,  45,  12],\n",
       "       [  2,  47,   3],\n",
       "       [  3,  47,  29],\n",
       "       [  4,   0,  17],\n",
       "       [  5,  18,  10],\n",
       "       [  6,  47,   2],\n",
       "       [  7,  39,  49],\n",
       "       [  8,  38,   3],\n",
       "       [  9,  34,  37],\n",
       "       [ 10,  48,  27],\n",
       "       [ 11,  29,   7],\n",
       "       [ 12,   1,  34],\n",
       "       [ 13,  38,  42],\n",
       "       [ 14,  33,  16],\n",
       "       [ 15,  33,  14],\n",
       "       [ 16,  10,  48],\n",
       "       [ 17,   0,  40],\n",
       "       [ 18,   5,  10],\n",
       "       [ 19,  21,  46],\n",
       "       [ 20,  31,  27],\n",
       "       [ 21,  19,  46],\n",
       "       [ 22,   6,   2],\n",
       "       [ 23,  26,  43],\n",
       "       [ 24,  11,  29],\n",
       "       [ 25,  37,  34],\n",
       "       [ 26,  23,  43],\n",
       "       [ 27,  28,   0],\n",
       "       [ 28,  27,   0],\n",
       "       [ 29,  30,   3],\n",
       "       [ 30,  29,  34],\n",
       "       [ 31,  20,  27],\n",
       "       [ 32,  46,  33],\n",
       "       [ 33,  32,  15],\n",
       "       [  9,  34,  37],\n",
       "       [ 35,  49,   1],\n",
       "       [ 36,  10,  31],\n",
       "       [  9,  34,  37],\n",
       "       [ 38,   8,  42],\n",
       "       [ 39,   7,   0],\n",
       "       [ 40,  17,   0],\n",
       "       [ 41,   8,  38],\n",
       "       [ 42,  38,  47],\n",
       "       [ 43,  26,  23],\n",
       "       [ 44,  46,   5],\n",
       "       [ 45,   1,  12],\n",
       "       [ 46,  19,  21],\n",
       "       [ 47,   3,   2],\n",
       "       [ 48,  10,  27],\n",
       "       [ 49,   7,  39],\n",
       "       [ 50,  52,  86],\n",
       "       [ 51,  56,  75],\n",
       "       [ 52,  50,  86],\n",
       "       [ 53,  89,  80],\n",
       "       [ 54,  58,  75],\n",
       "       [ 55,  66,  90],\n",
       "       [ 56,  51,  85],\n",
       "       [ 57,  93,  98],\n",
       "       [ 58,  75,  54],\n",
       "       [ 59,  89,  94],\n",
       "       [ 60,  93,  57],\n",
       "       [ 61,  96,  78],\n",
       "       [ 62,  92,  69],\n",
       "       [ 63,  91,  73],\n",
       "       [ 64,  82,  79],\n",
       "       [ 65,  75,  58],\n",
       "       [ 66,  84,  55],\n",
       "       [ 67,  92,  82],\n",
       "       [ 68,  87,  72],\n",
       "       [ 69,  80,  89],\n",
       "       [ 70, 138, 127],\n",
       "       [ 71,  97,  82],\n",
       "       [ 72, 133, 123],\n",
       "       [ 73,  63,  91],\n",
       "       [ 74,  97,  75],\n",
       "       [ 75,  65,  58],\n",
       "       [ 76,  58,  86],\n",
       "       [ 77,  52,  86],\n",
       "       [ 78,  91,  63],\n",
       "       [ 79,  81,  80],\n",
       "       [ 80,  81,  69],\n",
       "       [ 81,  80,  69],\n",
       "       [ 82,  92,  99],\n",
       "       [ 83, 133, 101],\n",
       "       [ 84,  66,  55],\n",
       "       [ 85,  56,  70],\n",
       "       [ 86,  52,  65],\n",
       "       [ 87,  68,  72],\n",
       "       [ 88,  95,  96],\n",
       "       [ 89,  53,  69],\n",
       "       [ 90,  94,  55],\n",
       "       [ 91,  63,  78],\n",
       "       [ 92,  82,  67],\n",
       "       [ 93,  57,  60],\n",
       "       [ 94,  99,  96],\n",
       "       [ 95,  96,  88],\n",
       "       [ 96,  95,  99],\n",
       "       [ 97,  74,  71],\n",
       "       [ 98,  57,  93],\n",
       "       [ 99,  96,  94],\n",
       "       [100, 136, 144],\n",
       "       [142, 101, 113],\n",
       "       [102, 125, 120],\n",
       "       [103, 116, 137],\n",
       "       [104, 132, 128],\n",
       "       [105, 122, 107],\n",
       "       [106,  84,  59],\n",
       "       [107, 130, 125],\n",
       "       [108, 128, 103],\n",
       "       [109, 143, 120],\n",
       "       [110, 147, 115],\n",
       "       [111, 147, 128],\n",
       "       [112, 139, 140],\n",
       "       [113, 142, 101],\n",
       "       [114, 121, 101],\n",
       "       [115, 148, 110],\n",
       "       [116, 137, 103],\n",
       "       [117, 131, 105],\n",
       "       [118, 122, 105],\n",
       "       [119,  72,  83],\n",
       "       [120, 143, 140],\n",
       "       [121, 142, 101],\n",
       "       [122, 105, 118],\n",
       "       [123, 126, 146],\n",
       "       [124, 120, 143],\n",
       "       [125, 129, 102],\n",
       "       [126, 123, 127],\n",
       "       [127, 138, 126],\n",
       "       [128, 132, 104],\n",
       "       [129, 125, 130],\n",
       "       [130, 107, 102],\n",
       "       [131, 117, 105],\n",
       "       [132, 128, 104],\n",
       "       [133,  83,  72],\n",
       "       [134, 103,  83],\n",
       "       [135, 130, 105],\n",
       "       [136, 148, 115],\n",
       "       [137, 116, 103],\n",
       "       [138, 127,  70],\n",
       "       [139, 112, 145],\n",
       "       [140, 144, 120],\n",
       "       [141, 145, 139],\n",
       "       [142, 101, 113],\n",
       "       [143, 120, 124],\n",
       "       [144, 140, 120],\n",
       "       [145, 141, 147],\n",
       "       [146, 123, 111],\n",
       "       [147, 110, 111],\n",
       "       [148, 136, 115],\n",
       "       [149, 127, 138]])"
      ]
     },
     "execution_count": 76,
     "metadata": {},
     "output_type": "execute_result"
    }
   ],
   "source": [
    "clf = KNeighborsClassifier(n_neighbors=3)\n",
    "clf.fit(X, y)\n",
    "clf.kneighbors(X, return_distance=False)"
   ]
  },
  {
   "cell_type": "code",
   "execution_count": 77,
   "id": "a5bb6ad6",
   "metadata": {},
   "outputs": [
    {
     "ename": "NameError",
     "evalue": "name 'DecisionBoundaryDisplay' is not defined",
     "output_type": "error",
     "traceback": [
      "\u001b[0;31m---------------------------------------------------------------------------\u001b[0m",
      "\u001b[0;31mNameError\u001b[0m                                 Traceback (most recent call last)",
      "\u001b[0;32m/var/folders/5d/gwtjffpj245b4r23_kk3_xch0000gn/T/ipykernel_12029/1236103610.py\u001b[0m in \u001b[0;36m<module>\u001b[0;34m\u001b[0m\n\u001b[1;32m      1\u001b[0m \u001b[0m_\u001b[0m\u001b[0;34m,\u001b[0m \u001b[0max\u001b[0m \u001b[0;34m=\u001b[0m \u001b[0mplt\u001b[0m\u001b[0;34m.\u001b[0m\u001b[0msubplots\u001b[0m\u001b[0;34m(\u001b[0m\u001b[0;34m)\u001b[0m\u001b[0;34m\u001b[0m\u001b[0;34m\u001b[0m\u001b[0m\n\u001b[1;32m      2\u001b[0m \u001b[0;34m\u001b[0m\u001b[0m\n\u001b[0;32m----> 3\u001b[0;31m DecisionBoundaryDisplay.from_estimator(\n\u001b[0m\u001b[1;32m      4\u001b[0m     \u001b[0mclf\u001b[0m\u001b[0;34m,\u001b[0m\u001b[0;34m\u001b[0m\u001b[0;34m\u001b[0m\u001b[0m\n\u001b[1;32m      5\u001b[0m     \u001b[0mX\u001b[0m\u001b[0;34m,\u001b[0m\u001b[0;34m\u001b[0m\u001b[0;34m\u001b[0m\u001b[0m\n",
      "\u001b[0;31mNameError\u001b[0m: name 'DecisionBoundaryDisplay' is not defined"
     ]
    },
    {
     "data": {
      "image/png": "[encoded data removed]",
      "text/plain": [
       "<Figure size 432x288 with 1 Axes>"
      ]
     },
     "metadata": {
      "needs_background": "light"
     },
     "output_type": "display_data"
    }
   ],
   "source": [
    "disp = DecisionBoundaryDisplay.from_estimator(\n",
    "     clf, X, response_method=\"predict\",\n",
    "     xlabel=iris.feature_names[0], ylabel=iris.feature_names[1],\n",
    "     alpha=0.5,\n",
    ")\n",
    "disp.ax_.scatter(X[:, 0], X[:, 1], c=iris.target, edgecolor=\"k\")\n",
    "plt.show()"
   ]
  }
 ],
 "metadata": {
  "kernelspec": {
   "display_name": "Python 3 (ipykernel)",
   "language": "python",
   "name": "python3"
  },
  "language_info": {
   "codemirror_mode": {
    "name": "ipython",
    "version": 3
   },
   "file_extension": ".py",
   "mimetype": "text/x-python",
   "name": "python",
   "nbconvert_exporter": "python",
   "pygments_lexer": "ipython3",
   "version": "3.9.14"
  }
 },
 "nbformat": 4,
 "nbformat_minor": 5
}
