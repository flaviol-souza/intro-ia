{
 "cells": [
  {
   "cell_type": "code",
   "execution_count": 202,
   "id": "01775cb0",
   "metadata": {},
   "outputs": [],
   "source": [
    "import pandas as pd\n",
    "import seaborn as sns\n",
    "import matplotlib.pyplot as plt\n",
    "from sklearn.metrics import confusion_matrix, roc_curve\n",
    "from sklearn.preprocessing import RobustScaler\n",
    "from sklearn.linear_model import LogisticRegression\n",
    "from sklearn.model_selection import cross_val_score, train_test_split"
   ]
  },
  {
   "cell_type": "code",
   "execution_count": null,
   "id": "5308e8a3",
   "metadata": {},
   "outputs": [],
   "source": [
    "#https://www.kaggle.com/datasets/mlg-ulb/creditcardfraud\n",
    "df = pd.read_csv('dataset/creditcard.csv')\n",
    "df.shape"
   ]
  },
  {
   "cell_type": "code",
   "execution_count": null,
   "id": "575b3eea",
   "metadata": {},
   "outputs": [],
   "source": [
    "df.head()"
   ]
  },
  {
   "cell_type": "code",
   "execution_count": null,
   "id": "3710343e",
   "metadata": {},
   "outputs": [],
   "source": [
    "plt.subplots(figsize=(18,5))\n",
    "sns.scatterplot(data=df, x='Time', y='Amount',  hue='Class')"
   ]
  },
  {
   "cell_type": "code",
   "execution_count": null,
   "id": "775e294d",
   "metadata": {},
   "outputs": [],
   "source": [
    "print('No Frauds', round(df['Class'].value_counts()[0]/len(df) * 100,2), '%')\n",
    "print('Frauds', round(df['Class'].value_counts()[1]/len(df) * 100,2), '%')"
   ]
  },
  {
   "cell_type": "code",
   "execution_count": null,
   "id": "6f624e3a",
   "metadata": {},
   "outputs": [],
   "source": [
    "sns.countplot(x='Class',data=df);"
   ]
  },
  {
   "cell_type": "code",
   "execution_count": null,
   "id": "27c31bda",
   "metadata": {},
   "outputs": [],
   "source": [
    "fig, ax = plt.subplots(2, 1, figsize=(12,5))\n",
    "\n",
    "amount_val = df['Amount'].values\n",
    "time_val = df['Time'].values\n",
    "\n",
    "sns.distplot(amount_val, ax=ax[0], color='r')\n",
    "ax[0].set_title('Distribution of Transaction Amount', fontsize=14)\n",
    "ax[0].set_xlim([min(amount_val), max(amount_val)])\n",
    "\n",
    "sns.distplot(time_val, ax=ax[1], color='b')\n",
    "ax[1].set_title('Distribution of Transaction Time', fontsize=14)\n",
    "ax[1].set_xlim([min(time_val), max(time_val)])\n",
    "\n",
    "plt.show()"
   ]
  },
  {
   "cell_type": "code",
   "execution_count": null,
   "id": "533c3eb1",
   "metadata": {},
   "outputs": [],
   "source": [
    "df_sub = df.copy()"
   ]
  },
  {
   "cell_type": "code",
   "execution_count": null,
   "id": "4a381fb4",
   "metadata": {},
   "outputs": [],
   "source": [
    "df_sub['Amount'].values.reshape(-1,1)"
   ]
  },
  {
   "cell_type": "code",
   "execution_count": null,
   "id": "256c501a",
   "metadata": {},
   "outputs": [],
   "source": [
    "df_sub['Time'].values.reshape(-1,1)"
   ]
  },
  {
   "cell_type": "code",
   "execution_count": null,
   "id": "92704fa1",
   "metadata": {},
   "outputs": [],
   "source": [
    "rob_scaler = RobustScaler()\n",
    "\n",
    "df_sub['scaled_amount'] = rob_scaler.fit_transform(df_sub['Amount'].values.reshape(-1,1))\n",
    "df_sub['scaled_time'] = rob_scaler.fit_transform(df_sub['Time'].values.reshape(-1,1))\n",
    "df_sub.drop(['Time','Amount'], axis=1, inplace=True)\n",
    "\n",
    "df_sub.head()"
   ]
  },
  {
   "cell_type": "code",
   "execution_count": null,
   "id": "38246549",
   "metadata": {},
   "outputs": [],
   "source": [
    "fraud_df = df_sub.loc[df_sub['Class'] == 1]\n",
    "len(fraud_df)"
   ]
  },
  {
   "cell_type": "code",
   "execution_count": null,
   "id": "23c8b53e",
   "metadata": {},
   "outputs": [],
   "source": [
    "fraud_df = df_sub.loc[df_sub['Class'] == 1]\n",
    "non_fraud_df = df_sub.loc[df_sub['Class'] == 0][:len(fraud_df)]\n",
    "\n",
    "normal_distributed_df = pd.concat([fraud_df, non_fraud_df])\n",
    "new_df = normal_distributed_df.sample(frac=1)\n",
    "\n",
    "new_df.head()"
   ]
  },
  {
   "cell_type": "code",
   "execution_count": null,
   "id": "c45da0a4",
   "metadata": {},
   "outputs": [],
   "source": [
    "sns.countplot(x='Class',data=new_df)"
   ]
  },
  {
   "cell_type": "code",
   "execution_count": null,
   "id": "310825c9",
   "metadata": {},
   "outputs": [],
   "source": [
    "X = new_df.drop('Class', axis=1)\n",
    "y = new_df['Class']\n",
    "X_train, X_test, y_train, y_test = train_test_split(X, y, test_size=0.2)"
   ]
  },
  {
   "cell_type": "code",
   "execution_count": null,
   "id": "5dd4f462",
   "metadata": {},
   "outputs": [],
   "source": [
    "clf = LogisticRegression()\n",
    "clf.fit(X_train, y_train)"
   ]
  },
  {
   "cell_type": "code",
   "execution_count": null,
   "id": "ed38202b",
   "metadata": {},
   "outputs": [],
   "source": [
    "train_score = cross_val_score(clf, X_train, y_train)\n",
    "print(\"Regression: \", round(train_score.mean(), 2) * 100, \"% accuracy score\")"
   ]
  },
  {
   "cell_type": "code",
   "execution_count": null,
   "id": "6b3b41c5",
   "metadata": {},
   "outputs": [],
   "source": [
    "y_pred = clf.predict(X_test)\n",
    "log_fpr, log_tpr, _ = roc_curve(y_test, y_pred)\n",
    "plt.figure(figsize=(12,8))\n",
    "plt.title('Regression ROC Curve', fontsize=16)\n",
    "plt.plot(log_fpr, log_tpr, 'b-', linewidth=2)\n",
    "plt.plot([0, 1], [0, 1], 'r--')\n",
    "plt.xlabel('False Positive Rate', fontsize=16)\n",
    "plt.ylabel('True Positive Rate', fontsize=16)\n",
    "plt.show()"
   ]
  },
  {
   "cell_type": "code",
   "execution_count": null,
   "id": "a945e0ed",
   "metadata": {},
   "outputs": [],
   "source": [
    "log_reg_cf = confusion_matrix(y_test, y_pred)\n",
    "s = sns.heatmap(log_reg_cf, annot=True, fmt='g')\n",
    "s.set(xlabel='Predict Label', ylabel='True Label')"
   ]
  },
  {
   "cell_type": "code",
   "execution_count": null,
   "id": "88db9c8f",
   "metadata": {},
   "outputs": [],
   "source": [
    "df_diff = pd.concat([df_sub, new_df]).drop_duplicates(keep=False)\n",
    "print(df_diff.shape)\n",
    "df_diff.head()"
   ]
  },
  {
   "cell_type": "code",
   "execution_count": null,
   "id": "d70d0c03",
   "metadata": {},
   "outputs": [],
   "source": [
    "X_diff = df_sub.drop('Class', axis=1).to_numpy()\n",
    "y_diff = df_sub['Class']\n",
    "\n",
    "score = cross_val_score(clf, X_diff, y_diff)\n",
    "print(\"Regression: \", round(score.mean(), 2) * 100, \"% accuracy score\")"
   ]
  },
  {
   "cell_type": "code",
   "execution_count": null,
   "id": "bc68711c",
   "metadata": {},
   "outputs": [],
   "source": [
    "pred = clf.predict(X_diff)\n",
    "\n",
    "cm = confusion_matrix(y_diff, pred)\n",
    "s = sns.heatmap(cm, annot=True, fmt='g)\n",
    "s.set(xlabel='Predict Label', ylabel='True Label')"
   ]
  }
 ],
 "metadata": {
  "kernelspec": {
   "display_name": "Python 3 (ipykernel)",
   "language": "python",
   "name": "python3"
  },
  "language_info": {
   "codemirror_mode": {
    "name": "ipython",
    "version": 3
   },
   "file_extension": ".py",
   "mimetype": "text/x-python",
   "name": "python",
   "nbconvert_exporter": "python",
   "pygments_lexer": "ipython3",
   "version": "3.9.14"
  }
 },
 "nbformat": 4,
 "nbformat_minor": 5
}
